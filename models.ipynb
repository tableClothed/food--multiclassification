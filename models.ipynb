{
 "cells": [
  {
   "cell_type": "code",
   "execution_count": 1,
   "metadata": {},
   "outputs": [],
   "source": [
    "import tensorflow as tf\n",
    "from tensorflow import keras\n",
    "import os\n",
    "import cv2\n",
    "import numpy as np\n",
    "import pandas as pd\n",
    "import matplotlib.pyplot as plt\n",
    "from sklearn.model_selection import train_test_split\n",
    "from tensorflow.keras.preprocessing.image import img_to_array\n",
    "\n",
    "df = pd.read_csv(\"data/data.csv\")\n",
    "categories = list(df['item'])\n",
    "labels = []\n",
    "\n",
    "for i, row in df.iterrows():\n",
    "    r = list(row)[1:]\n",
    "    labels.append(r)\n",
    "\n",
    "\n",
    "X, y = [], []\n",
    "for label in categories:  \n",
    "    path = os.path.join('data\\\\images', label)\n",
    "    pos = categories.index(label)\n",
    "    for img in os.listdir(path):\n",
    "        image = os.path.join(path, img)\n",
    "        image = cv2.imread(image)\n",
    "        image_res = cv2.resize(image, (224, 224))\n",
    "        image_to_add = img_to_array(image_res)\n",
    "        \n",
    "        X.append(image_res)\n",
    "        y.append(labels[pos])\n",
    "X = np.array(X, dtype=\"float\")/ 255.0\n",
    "y = np.array(y)"
   ]
  },
  {
   "cell_type": "code",
   "execution_count": 2,
   "metadata": {},
   "outputs": [],
   "source": [
    "train_x, test_x, train_y, test_y = train_test_split(X, y, test_size=0.1, \n",
    "                                                    shuffle= True)"
   ]
  },
  {
   "cell_type": "code",
   "execution_count": 3,
   "metadata": {},
   "outputs": [],
   "source": [
    "from tensorflow.keras.preprocessing.image import ImageDataGenerator\n",
    "\n",
    "datagen = ImageDataGenerator(rotation_range=20, width_shift_range=0.1,\n",
    "\t      height_shift_range=0.1, horizontal_flip=True)"
   ]
  },
  {
   "cell_type": "code",
   "execution_count": 4,
   "metadata": {},
   "outputs": [],
   "source": [
    "from tensorflow.keras.models import Model\n",
    "from tensorflow.keras.layers import Dense, Input, Flatten\n",
    "from tensorflow.keras.applications import ResNet50, Xception, DenseNet121\n",
    "\n",
    "img = Input(shape=(224, 224, 3))"
   ]
  },
  {
   "cell_type": "code",
   "execution_count": null,
   "metadata": {},
   "outputs": [
    {
     "name": "stdout",
     "output_type": "stream",
     "text": [
      "WARNING:tensorflow:From R:\\Work\\Anaconda\\lib\\site-packages\\tensorflow_core\\python\\ops\\resource_variable_ops.py:1630: calling BaseResourceVariable.__init__ (from tensorflow.python.ops.resource_variable_ops) with constraint is deprecated and will be removed in a future version.\n",
      "Instructions for updating:\n",
      "If using Keras pass *_constraint arguments to layers.\n",
      "WARNING:tensorflow:From R:\\Work\\Anaconda\\lib\\site-packages\\tensorflow_core\\python\\ops\\nn_impl.py:183: where (from tensorflow.python.ops.array_ops) is deprecated and will be removed in a future version.\n",
      "Instructions for updating:\n",
      "Use tf.where in 2.0, which has the same broadcast rule as np.where\n"
     ]
    }
   ],
   "source": [
    "model = DenseNet121(include_top=False, \n",
    "                    weights='imagenet', \n",
    "                    input_tensor=img, \n",
    "                    input_shape=None, \n",
    "                    pooling='avg')\n",
    "\n",
    "x = model.layers[-1].output\n",
    "x = Dense(128, activation = 'relu')(x)\n",
    "x = Dense(10, activation = 'sigmoid')(x)\n",
    "\n",
    "model = Model(img, x)\n",
    "model.compile(optimizer = 'adam', loss = 'binary_crossentropy' , metrics = ['accuracy'])\n",
    "\n",
    "model.fit_generator(datagen.flow(train_x, train_y),\n",
    "          epochs=5,\n",
    "          validation_data=(test_x, test_y),\n",
    "          verbose=1)\n",
    "\n",
    "model.save(\"DenseNet.h5\")"
   ]
  },
  {
   "cell_type": "code",
   "execution_count": null,
   "metadata": {},
   "outputs": [],
   "source": [
    "model = ResNet50(include_top=False, \n",
    "                    weights='imagenet', \n",
    "                    input_tensor=img, \n",
    "                    input_shape=None, \n",
    "                    pooling='avg')\n",
    "\n",
    "x = model.layers[-1].output\n",
    "x = Dense(128, activation = 'relu')(x)\n",
    "x = Dense(10, activation = 'sigmoid')(x)\n",
    "\n",
    "model = Model(img, x)\n",
    "model.compile(optimizer = 'adam', loss = 'binary_crossentropy' , metrics = ['accuracy'])\n",
    "\n",
    "model.fit_generator(datagen.flow(train_x, train_y),\n",
    "          epochs=5,\n",
    "          validation_data=(test_x, test_y),\n",
    "          verbose=1)\n",
    "\n",
    "model.save(\"ResNet.h5\")"
   ]
  },
  {
   "cell_type": "code",
   "execution_count": null,
   "metadata": {},
   "outputs": [
    {
     "name": "stdout",
     "output_type": "stream",
     "text": [
      "WARNING:tensorflow:From R:\\Work\\Anaconda\\lib\\site-packages\\tensorflow_core\\python\\ops\\resource_variable_ops.py:1630: calling BaseResourceVariable.__init__ (from tensorflow.python.ops.resource_variable_ops) with constraint is deprecated and will be removed in a future version.\n",
      "Instructions for updating:\n",
      "If using Keras pass *_constraint arguments to layers.\n",
      "WARNING:tensorflow:From R:\\Work\\Anaconda\\lib\\site-packages\\tensorflow_core\\python\\ops\\nn_impl.py:183: where (from tensorflow.python.ops.array_ops) is deprecated and will be removed in a future version.\n",
      "Instructions for updating:\n",
      "Use tf.where in 2.0, which has the same broadcast rule as np.where\n",
      "Epoch 1/5\n",
      "76/77 [============================>.] - ETA: 43s - loss: 0.4961 - acc: 0.7591 Epoch 1/5\n",
      "274/77 [==========================================================================================================] - 48s 174ms/sample - loss: 1.4066 - acc: 0.6843\n",
      "77/77 [==============================] - 3417s 44s/step - loss: 0.4955 - acc: 0.7596 - val_loss: 1.4992 - val_acc: 0.6843\n",
      "Epoch 2/5\n",
      "76/77 [============================>.] - ETA: 36s - loss: 0.4152 - acc: 0.8058 "
     ]
    }
   ],
   "source": [
    "model = Xception(include_top=False, \n",
    "                    weights='imagenet', \n",
    "                    input_tensor=img, \n",
    "                    input_shape=None, \n",
    "                    pooling='avg')\n",
    "\n",
    "x = model.layers[-1].output\n",
    "x = Dense(128, activation = 'relu')(x)\n",
    "x = Dense(10, activation = 'sigmoid')(x)\n",
    "\n",
    "model = Model(img, x)\n",
    "model.compile(optimizer = 'adam', loss = 'binary_crossentropy' , metrics = ['accuracy'])\n",
    "\n",
    "model.fit_generator(datagen.flow(train_x, train_y),\n",
    "          epochs=5,\n",
    "          validation_data=(test_x, test_y),\n",
    "          verbose=1)\n",
    "\n",
    "model.save(\"Xception.h5\")"
   ]
  },
  {
   "cell_type": "code",
   "execution_count": null,
   "metadata": {},
   "outputs": [],
   "source": []
  }
 ],
 "metadata": {
  "kernelspec": {
   "display_name": "Python 3",
   "language": "python",
   "name": "python3"
  },
  "language_info": {
   "codemirror_mode": {
    "name": "ipython",
    "version": 3
   },
   "file_extension": ".py",
   "mimetype": "text/x-python",
   "name": "python",
   "nbconvert_exporter": "python",
   "pygments_lexer": "ipython3",
   "version": "3.7.4"
  }
 },
 "nbformat": 4,
 "nbformat_minor": 2
}
